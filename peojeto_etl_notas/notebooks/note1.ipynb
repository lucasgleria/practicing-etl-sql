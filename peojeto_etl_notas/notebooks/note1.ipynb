{
 "cells": [
  {
   "cell_type": "code",
   "execution_count": 1,
   "id": "a85bfd83",
   "metadata": {},
   "outputs": [
    {
     "ename": "ModuleNotFoundError",
     "evalue": "No module named 'pandas'",
     "output_type": "error",
     "traceback": [
      "\u001b[31m---------------------------------------------------------------------------\u001b[39m",
      "\u001b[31mModuleNotFoundError\u001b[39m                       Traceback (most recent call last)",
      "\u001b[36mCell\u001b[39m\u001b[36m \u001b[39m\u001b[32mIn[1]\u001b[39m\u001b[32m, line 1\u001b[39m\n\u001b[32m----> \u001b[39m\u001b[32m1\u001b[39m \u001b[38;5;28;01mimport\u001b[39;00m\u001b[38;5;250m \u001b[39m\u001b[34;01mpandas\u001b[39;00m\u001b[38;5;250m \u001b[39m\u001b[38;5;28;01mas\u001b[39;00m\u001b[38;5;250m \u001b[39m\u001b[34;01mpd\u001b[39;00m\n",
      "\u001b[31mModuleNotFoundError\u001b[39m: No module named 'pandas'"
     ]
    }
   ],
   "source": [
    "import pandas as pd"
   ]
  },
  {
   "cell_type": "code",
   "execution_count": null,
   "id": "66f87a47",
   "metadata": {},
   "outputs": [],
   "source": [
    "dataset = '../data/student_grades.csv'\n",
    "pd.read_csv(dataset)"
   ]
  },
  {
   "cell_type": "markdown",
   "id": "691a997a",
   "metadata": {},
   "source": [
    "## Análise exploratória inicial:"
   ]
  },
  {
   "cell_type": "code",
   "execution_count": null,
   "id": "8aa067ef",
   "metadata": {},
   "outputs": [],
   "source": [
    "# Verificar as primeiras linhas do DataFrame.\n",
    "\n",
    "df.head() # head retorna as 5 primeiras linhas\n"
   ]
  },
  {
   "cell_type": "code",
   "execution_count": null,
   "id": "2252a70c",
   "metadata": {},
   "outputs": [],
   "source": [
    "# Verificar o tipo de dados de cada coluna.\n",
    "\n",
    "df.info() "
   ]
  },
  {
   "cell_type": "code",
   "execution_count": null,
   "id": "462f21f8",
   "metadata": {},
   "outputs": [],
   "source": [
    "# Verificar se há valores nulos.\n",
    "\n",
    "df.isnull().sum()"
   ]
  },
  {
   "cell_type": "code",
   "execution_count": null,
   "id": "9fbb1684",
   "metadata": {},
   "outputs": [],
   "source": [
    "# Analisar estatísticas básicas das colunas numéricas.\n",
    "\n",
    "df.describe()"
   ]
  },
  {
   "cell_type": "markdown",
   "id": "70a6f754",
   "metadata": {},
   "source": [
    "## Explicação das estatísticas básicas:\n",
    "\n",
    "### count\n",
    "\n",
    "Contagem total de registros\n",
    "\n",
    "### mean\n",
    "\n",
    "Média Aritmética\n",
    "\n",
    "### std\n",
    "\n",
    "Desvio Padrão (Moda) \n",
    "\n",
    "### min\n",
    "\n",
    "Valor mínimo na coluna\n",
    "\n",
    "### 25%\n",
    "\n",
    "Primeiro quartil (Q1)\n",
    "\n",
    "### 50%\n",
    "\n",
    "Mediana / Segundo quartil (Q2)\n",
    "\n",
    "### 75%\n",
    "\n",
    "Terceiro quartil (Q3)\n",
    "\n",
    "### max\n",
    "\n",
    "Valor máximo na coluna"
   ]
  }
 ],
 "metadata": {
  "kernelspec": {
   "display_name": "Python 3",
   "language": "python",
   "name": "python3"
  },
  "language_info": {
   "codemirror_mode": {
    "name": "ipython",
    "version": 3
   },
   "file_extension": ".py",
   "mimetype": "text/x-python",
   "name": "python",
   "nbconvert_exporter": "python",
   "pygments_lexer": "ipython3",
   "version": "3.11.4"
  }
 },
 "nbformat": 4,
 "nbformat_minor": 5
}
