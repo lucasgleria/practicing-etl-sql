{
 "cells": [
  {
   "cell_type": "markdown",
   "id": "50ea65a1-1ffc-4b0c-a7bf-e954d3a14fca",
   "metadata": {},
   "source": [
    "### Subetapa 2.1.1: Lidar com dados nulos. Por exemplo, preencher valores nulos de notas com 0 ou a média.\n",
    "### Subetapa 2.1.2: Normalizar as colunas de texto (nomes de cursos, etc.) para evitar inconsistências (por exemplo, converter para letras maiúsculas ou minúsculas).\n",
    "### Subetapa 2.1.3: Validar e corrigir os tipos de dados. Garantir que a coluna de notas seja do tipo numérico (float ou int)."
   ]
  },
  {
   "cell_type": "code",
   "execution_count": 5,
   "id": "b54d5bb7-acb0-4416-a766-eac8e043543a",
   "metadata": {},
   "outputs": [],
   "source": [
    "import pandas as pd\n",
    "\n",
    "dataset = '../data/student_grades.csv'\n",
    "df = pd.read_csv(dataset)"
   ]
  },
  {
   "cell_type": "code",
   "execution_count": 6,
   "id": "4aa0a7a2-f32a-4fbc-83bd-af0d274c9b29",
   "metadata": {},
   "outputs": [
    {
     "data": {
      "text/html": [
       "<div>\n",
       "<style scoped>\n",
       "    .dataframe tbody tr th:only-of-type {\n",
       "        vertical-align: middle;\n",
       "    }\n",
       "\n",
       "    .dataframe tbody tr th {\n",
       "        vertical-align: top;\n",
       "    }\n",
       "\n",
       "    .dataframe thead th {\n",
       "        text-align: right;\n",
       "    }\n",
       "</style>\n",
       "<table border=\"1\" class=\"dataframe\">\n",
       "  <thead>\n",
       "    <tr style=\"text-align: right;\">\n",
       "      <th></th>\n",
       "      <th>Student ID</th>\n",
       "      <th>Course</th>\n",
       "      <th>Grade</th>\n",
       "    </tr>\n",
       "  </thead>\n",
       "  <tbody>\n",
       "    <tr>\n",
       "      <th>0</th>\n",
       "      <td>1</td>\n",
       "      <td>Math</td>\n",
       "      <td>F</td>\n",
       "    </tr>\n",
       "    <tr>\n",
       "      <th>1</th>\n",
       "      <td>1</td>\n",
       "      <td>Science</td>\n",
       "      <td>C</td>\n",
       "    </tr>\n",
       "    <tr>\n",
       "      <th>2</th>\n",
       "      <td>1</td>\n",
       "      <td>History</td>\n",
       "      <td>A</td>\n",
       "    </tr>\n",
       "    <tr>\n",
       "      <th>3</th>\n",
       "      <td>1</td>\n",
       "      <td>English</td>\n",
       "      <td>F</td>\n",
       "    </tr>\n",
       "    <tr>\n",
       "      <th>4</th>\n",
       "      <td>1</td>\n",
       "      <td>Physical Education</td>\n",
       "      <td>C</td>\n",
       "    </tr>\n",
       "    <tr>\n",
       "      <th>...</th>\n",
       "      <td>...</td>\n",
       "      <td>...</td>\n",
       "      <td>...</td>\n",
       "    </tr>\n",
       "    <tr>\n",
       "      <th>49995</th>\n",
       "      <td>10000</td>\n",
       "      <td>Math</td>\n",
       "      <td>D</td>\n",
       "    </tr>\n",
       "    <tr>\n",
       "      <th>49996</th>\n",
       "      <td>10000</td>\n",
       "      <td>Science</td>\n",
       "      <td>F</td>\n",
       "    </tr>\n",
       "    <tr>\n",
       "      <th>49997</th>\n",
       "      <td>10000</td>\n",
       "      <td>History</td>\n",
       "      <td>B</td>\n",
       "    </tr>\n",
       "    <tr>\n",
       "      <th>49998</th>\n",
       "      <td>10000</td>\n",
       "      <td>English</td>\n",
       "      <td>F</td>\n",
       "    </tr>\n",
       "    <tr>\n",
       "      <th>49999</th>\n",
       "      <td>10000</td>\n",
       "      <td>Physical Education</td>\n",
       "      <td>F</td>\n",
       "    </tr>\n",
       "  </tbody>\n",
       "</table>\n",
       "<p>50000 rows × 3 columns</p>\n",
       "</div>"
      ],
      "text/plain": [
       "       Student ID              Course Grade\n",
       "0               1                Math     F\n",
       "1               1             Science     C\n",
       "2               1             History     A\n",
       "3               1             English     F\n",
       "4               1  Physical Education     C\n",
       "...           ...                 ...   ...\n",
       "49995       10000                Math     D\n",
       "49996       10000             Science     F\n",
       "49997       10000             History     B\n",
       "49998       10000             English     F\n",
       "49999       10000  Physical Education     F\n",
       "\n",
       "[50000 rows x 3 columns]"
      ]
     },
     "execution_count": 6,
     "metadata": {},
     "output_type": "execute_result"
    }
   ],
   "source": [
    "df.fillna(0) # Preenche todos os valores nulos com \"0\" \n",
    "# Apesar de já sabermos pela análise anterior que não temos valores nulos."
   ]
  },
  {
   "cell_type": "code",
   "execution_count": 16,
   "id": "19863fa5-21bf-4060-9f3d-5f4e81bb18b8",
   "metadata": {},
   "outputs": [
    {
     "data": {
      "text/plain": [
       "array(['matematica', 'ciencias', 'historia', 'ingles', 'educacao fisica'],\n",
       "      dtype=object)"
      ]
     },
     "execution_count": 16,
     "metadata": {},
     "output_type": "execute_result"
    }
   ],
   "source": [
    "df['Course'].unique() # Verifica quais são os cursos que temos"
   ]
  },
  {
   "cell_type": "code",
   "execution_count": 17,
   "id": "d2454686-0925-4a6f-a8c7-cc0c3f00eea4",
   "metadata": {},
   "outputs": [],
   "source": [
    "dc_course = { # Cria um dicionario para traduzir as matérias\n",
    "    'Math': 'matematica',\n",
    "    'Science': 'ciencias',\n",
    "    'History': 'historia',\n",
    "    'English': 'ingles',\n",
    "    'Physical Education': 'educacao fisica'\n",
    "}\n",
    "\n",
    "\n",
    "df['Course'].replace(dc_course) # Testa a implementação, mas não aplica\n",
    "# df.head() retorna para o ingles, portanto precisamos salvar as modificações\n",
    "df['Course'] = df['Course'].replace(dc_course) # Agora sim, salvamos as mudanças\n",
    "# df.head() retorna os valores atualizados\n"
   ]
  },
  {
   "cell_type": "code",
   "execution_count": 18,
   "id": "27cdc47a-0000-4d9e-8ec7-ce8c20d4cc6d",
   "metadata": {},
   "outputs": [
    {
     "data": {
      "text/plain": [
       "array(['F', 'C', 'A', 'B', 'D'], dtype=object)"
      ]
     },
     "execution_count": 18,
     "metadata": {},
     "output_type": "execute_result"
    }
   ],
   "source": [
    "# Mesmo procedimento com as notas agora\n",
    "df['Grade'].unique() "
   ]
  },
  {
   "cell_type": "code",
   "execution_count": 24,
   "id": "b52b5a79-c6df-4ac3-8bf0-17ef8d14cbe4",
   "metadata": {},
   "outputs": [
    {
     "data": {
      "text/html": [
       "<div>\n",
       "<style scoped>\n",
       "    .dataframe tbody tr th:only-of-type {\n",
       "        vertical-align: middle;\n",
       "    }\n",
       "\n",
       "    .dataframe tbody tr th {\n",
       "        vertical-align: top;\n",
       "    }\n",
       "\n",
       "    .dataframe thead th {\n",
       "        text-align: right;\n",
       "    }\n",
       "</style>\n",
       "<table border=\"1\" class=\"dataframe\">\n",
       "  <thead>\n",
       "    <tr style=\"text-align: right;\">\n",
       "      <th></th>\n",
       "      <th>Student ID</th>\n",
       "      <th>Course</th>\n",
       "      <th>Grade</th>\n",
       "    </tr>\n",
       "  </thead>\n",
       "  <tbody>\n",
       "    <tr>\n",
       "      <th>0</th>\n",
       "      <td>1</td>\n",
       "      <td>matematica</td>\n",
       "      <td>0</td>\n",
       "    </tr>\n",
       "    <tr>\n",
       "      <th>1</th>\n",
       "      <td>1</td>\n",
       "      <td>ciencias</td>\n",
       "      <td>6</td>\n",
       "    </tr>\n",
       "    <tr>\n",
       "      <th>2</th>\n",
       "      <td>1</td>\n",
       "      <td>historia</td>\n",
       "      <td>10</td>\n",
       "    </tr>\n",
       "    <tr>\n",
       "      <th>3</th>\n",
       "      <td>1</td>\n",
       "      <td>ingles</td>\n",
       "      <td>0</td>\n",
       "    </tr>\n",
       "    <tr>\n",
       "      <th>4</th>\n",
       "      <td>1</td>\n",
       "      <td>educacao fisica</td>\n",
       "      <td>6</td>\n",
       "    </tr>\n",
       "  </tbody>\n",
       "</table>\n",
       "</div>"
      ],
      "text/plain": [
       "   Student ID           Course Grade\n",
       "0           1       matematica     0\n",
       "1           1         ciencias     6\n",
       "2           1         historia    10\n",
       "3           1           ingles     0\n",
       "4           1  educacao fisica     6"
      ]
     },
     "execution_count": 24,
     "metadata": {},
     "output_type": "execute_result"
    }
   ],
   "source": [
    "dc_grade = { # Cria dicionário para notas, trocando para valores numéricos\n",
    "    'A':10,\n",
    "    'B':8,\n",
    "    'C':6,\n",
    "    'D':4,\n",
    "    'E':2,\n",
    "    'F':0\n",
    "}\n",
    "\n",
    "df['Grade'] = df['Grade'].replace(dc_grade) # Atualizando novos valores\n",
    "df.head() "
   ]
  },
  {
   "cell_type": "code",
   "execution_count": 31,
   "id": "da2d7637-2be7-4ed6-8a06-ef1cbc70cc25",
   "metadata": {},
   "outputs": [
    {
     "data": {
      "text/html": [
       "<div>\n",
       "<style scoped>\n",
       "    .dataframe tbody tr th:only-of-type {\n",
       "        vertical-align: middle;\n",
       "    }\n",
       "\n",
       "    .dataframe tbody tr th {\n",
       "        vertical-align: top;\n",
       "    }\n",
       "\n",
       "    .dataframe thead th {\n",
       "        text-align: right;\n",
       "    }\n",
       "</style>\n",
       "<table border=\"1\" class=\"dataframe\">\n",
       "  <thead>\n",
       "    <tr style=\"text-align: right;\">\n",
       "      <th></th>\n",
       "      <th>IdAluno</th>\n",
       "      <th>curso</th>\n",
       "      <th>nota</th>\n",
       "    </tr>\n",
       "  </thead>\n",
       "  <tbody>\n",
       "    <tr>\n",
       "      <th>0</th>\n",
       "      <td>1</td>\n",
       "      <td>matematica</td>\n",
       "      <td>0</td>\n",
       "    </tr>\n",
       "    <tr>\n",
       "      <th>1</th>\n",
       "      <td>1</td>\n",
       "      <td>ciencias</td>\n",
       "      <td>6</td>\n",
       "    </tr>\n",
       "    <tr>\n",
       "      <th>2</th>\n",
       "      <td>1</td>\n",
       "      <td>historia</td>\n",
       "      <td>10</td>\n",
       "    </tr>\n",
       "    <tr>\n",
       "      <th>3</th>\n",
       "      <td>1</td>\n",
       "      <td>ingles</td>\n",
       "      <td>0</td>\n",
       "    </tr>\n",
       "    <tr>\n",
       "      <th>4</th>\n",
       "      <td>1</td>\n",
       "      <td>educacao fisica</td>\n",
       "      <td>6</td>\n",
       "    </tr>\n",
       "  </tbody>\n",
       "</table>\n",
       "</div>"
      ],
      "text/plain": [
       "   IdAluno            curso nota\n",
       "0        1       matematica    0\n",
       "1        1         ciencias    6\n",
       "2        1         historia   10\n",
       "3        1           ingles    0\n",
       "4        1  educacao fisica    6"
      ]
     },
     "execution_count": 31,
     "metadata": {},
     "output_type": "execute_result"
    }
   ],
   "source": [
    "# Agora vamos mudar o texto das colunas em si.\n",
    "dc_col_names = {\n",
    "    'Student ID': 'IdAluno',\n",
    "    'Course': 'curso',\n",
    "    'Grade': 'nota'\n",
    "}\n",
    "\n",
    "df = df.rename(columns= dc_col_names) # Renomeia as colunas\n",
    "\n",
    "df.head()"
   ]
  },
  {
   "cell_type": "code",
   "execution_count": 32,
   "id": "d7c1011f-58c1-45dd-a13a-9096f9dccd67",
   "metadata": {},
   "outputs": [
    {
     "name": "stdout",
     "output_type": "stream",
     "text": [
      "<class 'pandas.core.frame.DataFrame'>\n",
      "Index: 50000 entries, 0 to 49999\n",
      "Data columns (total 3 columns):\n",
      " #   Column   Non-Null Count  Dtype \n",
      "---  ------   --------------  ----- \n",
      " 0   IdAluno  50000 non-null  int64 \n",
      " 1   curso    50000 non-null  object\n",
      " 2   nota     50000 non-null  object\n",
      "dtypes: int64(1), object(2)\n",
      "memory usage: 1.5+ MB\n"
     ]
    }
   ],
   "source": [
    "df.info() # Percebi que a coluna de notas ainda estava no formato de object, precisamos corrigir isso.\n",
    "# As notas devem ser número de ponto flutuante."
   ]
  },
  {
   "cell_type": "code",
   "execution_count": 45,
   "id": "067b536c-0760-4120-af34-f16d217a7dbd",
   "metadata": {},
   "outputs": [
    {
     "name": "stdout",
     "output_type": "stream",
     "text": [
      "<class 'pandas.core.frame.DataFrame'>\n",
      "Index: 50000 entries, 0 to 49999\n",
      "Data columns (total 3 columns):\n",
      " #   Column   Non-Null Count  Dtype  \n",
      "---  ------   --------------  -----  \n",
      " 0   IdAluno  50000 non-null  int64  \n",
      " 1   curso    50000 non-null  object \n",
      " 2   nota     50000 non-null  float64\n",
      "dtypes: float64(1), int64(1), object(1)\n",
      "memory usage: 1.5+ MB\n"
     ]
    },
    {
     "data": {
      "text/html": [
       "<div>\n",
       "<style scoped>\n",
       "    .dataframe tbody tr th:only-of-type {\n",
       "        vertical-align: middle;\n",
       "    }\n",
       "\n",
       "    .dataframe tbody tr th {\n",
       "        vertical-align: top;\n",
       "    }\n",
       "\n",
       "    .dataframe thead th {\n",
       "        text-align: right;\n",
       "    }\n",
       "</style>\n",
       "<table border=\"1\" class=\"dataframe\">\n",
       "  <thead>\n",
       "    <tr style=\"text-align: right;\">\n",
       "      <th></th>\n",
       "      <th>IdAluno</th>\n",
       "      <th>curso</th>\n",
       "      <th>nota</th>\n",
       "    </tr>\n",
       "  </thead>\n",
       "  <tbody>\n",
       "    <tr>\n",
       "      <th>0</th>\n",
       "      <td>1</td>\n",
       "      <td>matematica</td>\n",
       "      <td>0.0</td>\n",
       "    </tr>\n",
       "    <tr>\n",
       "      <th>1</th>\n",
       "      <td>1</td>\n",
       "      <td>ciencias</td>\n",
       "      <td>6.0</td>\n",
       "    </tr>\n",
       "    <tr>\n",
       "      <th>2</th>\n",
       "      <td>1</td>\n",
       "      <td>historia</td>\n",
       "      <td>10.0</td>\n",
       "    </tr>\n",
       "    <tr>\n",
       "      <th>3</th>\n",
       "      <td>1</td>\n",
       "      <td>ingles</td>\n",
       "      <td>0.0</td>\n",
       "    </tr>\n",
       "    <tr>\n",
       "      <th>4</th>\n",
       "      <td>1</td>\n",
       "      <td>educacao fisica</td>\n",
       "      <td>6.0</td>\n",
       "    </tr>\n",
       "  </tbody>\n",
       "</table>\n",
       "</div>"
      ],
      "text/plain": [
       "   IdAluno            curso  nota\n",
       "0        1       matematica   0.0\n",
       "1        1         ciencias   6.0\n",
       "2        1         historia  10.0\n",
       "3        1           ingles   0.0\n",
       "4        1  educacao fisica   6.0"
      ]
     },
     "execution_count": 45,
     "metadata": {},
     "output_type": "execute_result"
    }
   ],
   "source": [
    "df['nota'] = df['nota'].astype(float) # Convertendo o tipo da coluna para float\n",
    "df.info() # Verifica a mudança de object para float\n",
    "df.head() # verifica a mudança "
   ]
  },
  {
   "cell_type": "markdown",
   "id": "630517e2-5266-4354-a429-309cc051756f",
   "metadata": {},
   "source": [
    "### Subetapa 2.2.1: Criar uma conexão com o banco de dados SQLite dentro do seu Notebook.\n",
    "### Subetapa 2.2.2: Definir o nome da tabela que irá receber os dados, por exemplo, tabela_notas.\n",
    "### Subetapa 2.2.3: Utilizar o pandas para carregar o DataFrame já tratado para a tabela SQLite.\n",
    "#### df_tratado.to_sql('tabela_notas', conn, if_exists='replace', index=False)\n",
    "### Subetapa 2.2.4: Verificar se a tabela foi criada e populada corretamente, executando uma simples consulta SQL (SELECT * FROM tabela_notas LIMIT 5)."
   ]
  }
 ],
 "metadata": {
  "kernelspec": {
   "display_name": "Python 3 (ipykernel)",
   "language": "python",
   "name": "python3"
  },
  "language_info": {
   "codemirror_mode": {
    "name": "ipython",
    "version": 3
   },
   "file_extension": ".py",
   "mimetype": "text/x-python",
   "name": "python",
   "nbconvert_exporter": "python",
   "pygments_lexer": "ipython3",
   "version": "3.13.5"
  }
 },
 "nbformat": 4,
 "nbformat_minor": 5
}
